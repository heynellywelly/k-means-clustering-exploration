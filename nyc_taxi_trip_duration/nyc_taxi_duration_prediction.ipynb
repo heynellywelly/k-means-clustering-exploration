{
 "cells": [
  {
   "cell_type": "markdown",
   "metadata": {},
   "source": [
    "# Imports"
   ]
  },
  {
   "cell_type": "code",
   "execution_count": 1,
   "metadata": {},
   "outputs": [],
   "source": [
    "import pandas as pd\n",
    "import numpy as np\n",
    "import seaborn as sns\n",
    "import matplotlib.pyplot as plt\n",
    "import matplotlib.ticker as mtick\n",
    "import time"
   ]
  },
  {
   "cell_type": "markdown",
   "metadata": {},
   "source": [
    "# Importing the data set"
   ]
  },
  {
   "cell_type": "code",
   "execution_count": 2,
   "metadata": {},
   "outputs": [],
   "source": [
    "try:\n",
    "    taxi_df = pd.read_csv(\"./taxi_duration_train.csv\", )\n",
    "except:\n",
    "    print(\"Could not locate the relevant CSV file!\")"
   ]
  },
  {
   "cell_type": "code",
   "execution_count": 3,
   "metadata": {},
   "outputs": [
    {
     "data": {
      "text/html": [
       "<div>\n",
       "<style scoped>\n",
       "    .dataframe tbody tr th:only-of-type {\n",
       "        vertical-align: middle;\n",
       "    }\n",
       "\n",
       "    .dataframe tbody tr th {\n",
       "        vertical-align: top;\n",
       "    }\n",
       "\n",
       "    .dataframe thead th {\n",
       "        text-align: right;\n",
       "    }\n",
       "</style>\n",
       "<table border=\"1\" class=\"dataframe\">\n",
       "  <thead>\n",
       "    <tr style=\"text-align: right;\">\n",
       "      <th></th>\n",
       "      <th>id</th>\n",
       "      <th>vendor_id</th>\n",
       "      <th>pickup_datetime</th>\n",
       "      <th>dropoff_datetime</th>\n",
       "      <th>passenger_count</th>\n",
       "      <th>pickup_longitude</th>\n",
       "      <th>pickup_latitude</th>\n",
       "      <th>dropoff_longitude</th>\n",
       "      <th>dropoff_latitude</th>\n",
       "      <th>store_and_fwd_flag</th>\n",
       "      <th>trip_duration</th>\n",
       "    </tr>\n",
       "  </thead>\n",
       "  <tbody>\n",
       "    <tr>\n",
       "      <th>0</th>\n",
       "      <td>id2875421</td>\n",
       "      <td>2</td>\n",
       "      <td>2016-03-14 17:24:55</td>\n",
       "      <td>2016-03-14 17:32:30</td>\n",
       "      <td>1</td>\n",
       "      <td>-73.982155</td>\n",
       "      <td>40.767937</td>\n",
       "      <td>-73.964630</td>\n",
       "      <td>40.765602</td>\n",
       "      <td>N</td>\n",
       "      <td>455</td>\n",
       "    </tr>\n",
       "    <tr>\n",
       "      <th>1</th>\n",
       "      <td>id2377394</td>\n",
       "      <td>1</td>\n",
       "      <td>2016-06-12 00:43:35</td>\n",
       "      <td>2016-06-12 00:54:38</td>\n",
       "      <td>1</td>\n",
       "      <td>-73.980415</td>\n",
       "      <td>40.738564</td>\n",
       "      <td>-73.999481</td>\n",
       "      <td>40.731152</td>\n",
       "      <td>N</td>\n",
       "      <td>663</td>\n",
       "    </tr>\n",
       "    <tr>\n",
       "      <th>2</th>\n",
       "      <td>id3858529</td>\n",
       "      <td>2</td>\n",
       "      <td>2016-01-19 11:35:24</td>\n",
       "      <td>2016-01-19 12:10:48</td>\n",
       "      <td>1</td>\n",
       "      <td>-73.979027</td>\n",
       "      <td>40.763939</td>\n",
       "      <td>-74.005333</td>\n",
       "      <td>40.710087</td>\n",
       "      <td>N</td>\n",
       "      <td>2124</td>\n",
       "    </tr>\n",
       "    <tr>\n",
       "      <th>3</th>\n",
       "      <td>id3504673</td>\n",
       "      <td>2</td>\n",
       "      <td>2016-04-06 19:32:31</td>\n",
       "      <td>2016-04-06 19:39:40</td>\n",
       "      <td>1</td>\n",
       "      <td>-74.010040</td>\n",
       "      <td>40.719971</td>\n",
       "      <td>-74.012268</td>\n",
       "      <td>40.706718</td>\n",
       "      <td>N</td>\n",
       "      <td>429</td>\n",
       "    </tr>\n",
       "    <tr>\n",
       "      <th>4</th>\n",
       "      <td>id2181028</td>\n",
       "      <td>2</td>\n",
       "      <td>2016-03-26 13:30:55</td>\n",
       "      <td>2016-03-26 13:38:10</td>\n",
       "      <td>1</td>\n",
       "      <td>-73.973053</td>\n",
       "      <td>40.793209</td>\n",
       "      <td>-73.972923</td>\n",
       "      <td>40.782520</td>\n",
       "      <td>N</td>\n",
       "      <td>435</td>\n",
       "    </tr>\n",
       "  </tbody>\n",
       "</table>\n",
       "</div>"
      ],
      "text/plain": [
       "          id  vendor_id      pickup_datetime     dropoff_datetime  \\\n",
       "0  id2875421          2  2016-03-14 17:24:55  2016-03-14 17:32:30   \n",
       "1  id2377394          1  2016-06-12 00:43:35  2016-06-12 00:54:38   \n",
       "2  id3858529          2  2016-01-19 11:35:24  2016-01-19 12:10:48   \n",
       "3  id3504673          2  2016-04-06 19:32:31  2016-04-06 19:39:40   \n",
       "4  id2181028          2  2016-03-26 13:30:55  2016-03-26 13:38:10   \n",
       "\n",
       "   passenger_count  pickup_longitude  pickup_latitude  dropoff_longitude  \\\n",
       "0                1        -73.982155        40.767937         -73.964630   \n",
       "1                1        -73.980415        40.738564         -73.999481   \n",
       "2                1        -73.979027        40.763939         -74.005333   \n",
       "3                1        -74.010040        40.719971         -74.012268   \n",
       "4                1        -73.973053        40.793209         -73.972923   \n",
       "\n",
       "   dropoff_latitude store_and_fwd_flag  trip_duration  \n",
       "0         40.765602                  N            455  \n",
       "1         40.731152                  N            663  \n",
       "2         40.710087                  N           2124  \n",
       "3         40.706718                  N            429  \n",
       "4         40.782520                  N            435  "
      ]
     },
     "execution_count": 3,
     "metadata": {},
     "output_type": "execute_result"
    }
   ],
   "source": [
    "taxi_df.head()"
   ]
  },
  {
   "cell_type": "markdown",
   "metadata": {},
   "source": [
    "# Building a Pipeline to transform the data set"
   ]
  },
  {
   "cell_type": "markdown",
   "metadata": {},
   "source": [
    "At this point, I attempt to build a pipeline to help pipe the necessary transformations that we would need to take, based on a given data's structure, and the additional features (if any) that we would want to create for a \"vanilla\" data set."
   ]
  },
  {
   "cell_type": "markdown",
   "metadata": {},
   "source": [
    "## Importing the Pipeline library from scikit-learn"
   ]
  },
  {
   "cell_type": "code",
   "execution_count": 4,
   "metadata": {},
   "outputs": [],
   "source": [
    "from sklearn.pipeline import Pipeline, FeatureUnion, make_pipeline\n",
    "from sklearn.base import BaseEstimator, TransformerMixin"
   ]
  },
  {
   "cell_type": "markdown",
   "metadata": {},
   "source": [
    "## A Class to engineer the necessary date and time features"
   ]
  },
  {
   "cell_type": "code",
   "execution_count": 5,
   "metadata": {},
   "outputs": [],
   "source": [
    "class EngineerDateTimeFeatures(BaseEstimator, TransformerMixin):\n",
    "    def __init__(self):\n",
    "        pass\n",
    "    \n",
    "    def _create_date_time_cols(self, df):\n",
    "        df['pickup_datetime'] = pd.to_datetime(df['pickup_datetime'])\n",
    "        df['dropoff_datetime'] = pd.to_datetime(df['dropoff_datetime'])\n",
    "        \n",
    "        # Getting a Day of the Week for the pickup\n",
    "        df['pickup_day_of_week'] = df['pickup_datetime'].dt.dayofweek + 1\n",
    "\n",
    "        # Getting the day's date of the pickup\n",
    "        df['pickup_day_date'] = df['pickup_datetime'].dt.day\n",
    "\n",
    "        # Getting the month of the pickup\n",
    "        df['pickup_mth'] = df['pickup_datetime'].dt.month\n",
    "\n",
    "        # Getting the year of the pickup\n",
    "        df['pickup_yr'] = df['pickup_datetime'].dt.year\n",
    "\n",
    "        # Getting the hour of the pickup\n",
    "        df['pickup_time_hour'] = df['pickup_datetime'].dt.hour\n",
    "        \n",
    "        # Getting the minute of the pickup\n",
    "        df['pickup_time_min'] = df['pickup_datetime'].dt.minute\n",
    "\n",
    "        # Getting the hour of the dropoff\n",
    "        df['dropoff_time_hour'] = df['dropoff_datetime'].dt.hour\n",
    "        \n",
    "        # Getting the minute of the dropoff\n",
    "        df['dropoff_time_min'] = df['dropoff_datetime'].dt.minute\n",
    "        \n",
    "        return df\n",
    "    \n",
    "    def fit(self, X, y=None):\n",
    "        return self\n",
    "    \n",
    "    def transform(self, X):\n",
    "        assert isinstance(X, pd.DataFrame)\n",
    "        _temp_df = self._create_date_time_cols(X.copy())\n",
    "        return _temp_df"
   ]
  },
  {
   "cell_type": "markdown",
   "metadata": {},
   "source": [
    "## A Class to engineer the necessary Euclidean distance based on the latitude and longitude of the pickups and dropoffs"
   ]
  },
  {
   "cell_type": "code",
   "execution_count": 6,
   "metadata": {},
   "outputs": [],
   "source": [
    "class EngineerDistanceFeature(BaseEstimator, TransformerMixin):\n",
    "    def __init__(self):\n",
    "        pass\n",
    "\n",
    "    # Credits to: https://stackoverflow.com/questions/29545704/fast-haversine-approximation-python-pandas\n",
    "    def _haversine_np(self, lon1, lat1, lon2, lat2):\n",
    "        \"\"\"\n",
    "        Calculate the great circle distance between two points\n",
    "        on the earth (specified in decimal degrees)\n",
    "\n",
    "        All args must be of equal length.    \n",
    "\n",
    "        \"\"\"\n",
    "        lon1, lat1, lon2, lat2 = map(np.radians, [lon1, lat1, lon2, lat2])\n",
    "\n",
    "        dlon = lon2 - lon1\n",
    "        dlat = lat2 - lat1\n",
    "\n",
    "        a = np.sin(dlat/2.0)**2 + np.cos(lat1) * np.cos(lat2) * np.sin(dlon/2.0)**2\n",
    "\n",
    "        c = 2 * np.arcsin(np.sqrt(a))\n",
    "        km = 6367 * c\n",
    "        return km\n",
    "    \n",
    "    def _create_euc_dist_cols(self, df):\n",
    "        df['trip_euc_dist'] = self._haversine_np(df['pickup_longitude'], df['pickup_latitude'], df['dropoff_longitude'], df['dropoff_latitude'])\n",
    "        return df\n",
    "    \n",
    "    def fit(self, X, y=None):\n",
    "        return self\n",
    "    \n",
    "    def transform(self, X):\n",
    "        assert isinstance(X, pd.DataFrame)\n",
    "        _temp_df = self._create_euc_dist_cols(X.copy())\n",
    "        return _temp_df"
   ]
  },
  {
   "cell_type": "markdown",
   "metadata": {},
   "source": [
    "## A Class to conduct feature selection and remove the unnecessary columns"
   ]
  },
  {
   "cell_type": "code",
   "execution_count": 7,
   "metadata": {},
   "outputs": [],
   "source": [
    "class SelectFeatures(BaseEstimator, TransformerMixin):\n",
    "    def __init__(self):\n",
    "        pass\n",
    "    \n",
    "    def _drop_my_cols(self, df):\n",
    "        _temp_df = df.drop(columns=['id', 'store_and_fwd_flag', 'pickup_datetime', 'dropoff_datetime', 'pickup_yr'])\n",
    "        return _temp_df\n",
    "    \n",
    "    def fit(self, X, y=None):\n",
    "        return self\n",
    "    \n",
    "    def transform(self, X):\n",
    "        assert isinstance(X, pd.DataFrame)\n",
    "        _temp_df = self._drop_my_cols(X.copy())\n",
    "        return _temp_df"
   ]
  },
  {
   "cell_type": "markdown",
   "metadata": {},
   "source": [
    "## A Class to maintain the FeatureUnion's numpy array output as a Pandas DataFrame"
   ]
  },
  {
   "cell_type": "markdown",
   "metadata": {},
   "source": [
    "This class remains unused, but I'll leave it here as potential future reference."
   ]
  },
  {
   "cell_type": "code",
   "execution_count": 8,
   "metadata": {},
   "outputs": [],
   "source": [
    "class PandasTransform(BaseEstimator, TransformerMixin):\n",
    "    def __init__(self, fn):\n",
    "        self.fn = fn\n",
    "        \n",
    "    def fit(self, X, y=None):\n",
    "        return self\n",
    "    \n",
    "    def transform(self, X, y=None, copy=None):\n",
    "        return self.fn(X)"
   ]
  },
  {
   "cell_type": "markdown",
   "metadata": {},
   "source": [
    "## Apply the transformations on the test data set and concatenate the transformations with the pipeline and FeatureUnion"
   ]
  },
  {
   "cell_type": "markdown",
   "metadata": {},
   "source": [
    "This is where we pipe the different classes that we have created in the above paragraphs, and what a combined pipeline would look like."
   ]
  },
  {
   "cell_type": "code",
   "execution_count": 9,
   "metadata": {},
   "outputs": [],
   "source": [
    "preprocess_pipeline = Pipeline([\n",
    "    (\"engineer_date_time_features\", EngineerDateTimeFeatures()),\n",
    "    (\"engineer_distance_features\", EngineerDistanceFeature()),\n",
    "    (\"select_features\", SelectFeatures()),\n",
    "])"
   ]
  },
  {
   "cell_type": "code",
   "execution_count": 10,
   "metadata": {},
   "outputs": [
    {
     "name": "stdout",
     "output_type": "stream",
     "text": [
      "The time taken for the data preprocessing transformation pipeline was 2.37 seconds.\n"
     ]
    }
   ],
   "source": [
    "# Keep track of how long the pipelined transformation takes \n",
    "start = time.time()\n",
    "\n",
    "taxi_df_transformed = preprocess_pipeline.fit_transform(taxi_df)\n",
    "\n",
    "end = time.time()\n",
    "\n",
    "print(\"The time taken for the data preprocessing transformation pipeline was \" + \"{:.2f}\".format(end - start) + \" seconds.\")"
   ]
  },
  {
   "cell_type": "code",
   "execution_count": 11,
   "metadata": {},
   "outputs": [
    {
     "data": {
      "text/html": [
       "<div>\n",
       "<style scoped>\n",
       "    .dataframe tbody tr th:only-of-type {\n",
       "        vertical-align: middle;\n",
       "    }\n",
       "\n",
       "    .dataframe tbody tr th {\n",
       "        vertical-align: top;\n",
       "    }\n",
       "\n",
       "    .dataframe thead th {\n",
       "        text-align: right;\n",
       "    }\n",
       "</style>\n",
       "<table border=\"1\" class=\"dataframe\">\n",
       "  <thead>\n",
       "    <tr style=\"text-align: right;\">\n",
       "      <th></th>\n",
       "      <th>vendor_id</th>\n",
       "      <th>passenger_count</th>\n",
       "      <th>pickup_longitude</th>\n",
       "      <th>pickup_latitude</th>\n",
       "      <th>dropoff_longitude</th>\n",
       "      <th>dropoff_latitude</th>\n",
       "      <th>trip_duration</th>\n",
       "      <th>pickup_day_of_week</th>\n",
       "      <th>pickup_day_date</th>\n",
       "      <th>pickup_mth</th>\n",
       "      <th>pickup_time_hour</th>\n",
       "      <th>pickup_time_min</th>\n",
       "      <th>dropoff_time_hour</th>\n",
       "      <th>dropoff_time_min</th>\n",
       "      <th>trip_euc_dist</th>\n",
       "    </tr>\n",
       "  </thead>\n",
       "  <tbody>\n",
       "    <tr>\n",
       "      <th>0</th>\n",
       "      <td>2</td>\n",
       "      <td>1</td>\n",
       "      <td>-73.982155</td>\n",
       "      <td>40.767937</td>\n",
       "      <td>-73.964630</td>\n",
       "      <td>40.765602</td>\n",
       "      <td>455</td>\n",
       "      <td>1</td>\n",
       "      <td>14</td>\n",
       "      <td>3</td>\n",
       "      <td>17</td>\n",
       "      <td>24</td>\n",
       "      <td>17</td>\n",
       "      <td>32</td>\n",
       "      <td>1.497580</td>\n",
       "    </tr>\n",
       "    <tr>\n",
       "      <th>1</th>\n",
       "      <td>1</td>\n",
       "      <td>1</td>\n",
       "      <td>-73.980415</td>\n",
       "      <td>40.738564</td>\n",
       "      <td>-73.999481</td>\n",
       "      <td>40.731152</td>\n",
       "      <td>663</td>\n",
       "      <td>7</td>\n",
       "      <td>12</td>\n",
       "      <td>6</td>\n",
       "      <td>0</td>\n",
       "      <td>43</td>\n",
       "      <td>0</td>\n",
       "      <td>54</td>\n",
       "      <td>1.804374</td>\n",
       "    </tr>\n",
       "    <tr>\n",
       "      <th>2</th>\n",
       "      <td>2</td>\n",
       "      <td>1</td>\n",
       "      <td>-73.979027</td>\n",
       "      <td>40.763939</td>\n",
       "      <td>-74.005333</td>\n",
       "      <td>40.710087</td>\n",
       "      <td>2124</td>\n",
       "      <td>2</td>\n",
       "      <td>19</td>\n",
       "      <td>1</td>\n",
       "      <td>11</td>\n",
       "      <td>35</td>\n",
       "      <td>12</td>\n",
       "      <td>10</td>\n",
       "      <td>6.381090</td>\n",
       "    </tr>\n",
       "    <tr>\n",
       "      <th>3</th>\n",
       "      <td>2</td>\n",
       "      <td>1</td>\n",
       "      <td>-74.010040</td>\n",
       "      <td>40.719971</td>\n",
       "      <td>-74.012268</td>\n",
       "      <td>40.706718</td>\n",
       "      <td>429</td>\n",
       "      <td>3</td>\n",
       "      <td>6</td>\n",
       "      <td>4</td>\n",
       "      <td>19</td>\n",
       "      <td>32</td>\n",
       "      <td>19</td>\n",
       "      <td>39</td>\n",
       "      <td>1.484566</td>\n",
       "    </tr>\n",
       "    <tr>\n",
       "      <th>4</th>\n",
       "      <td>2</td>\n",
       "      <td>1</td>\n",
       "      <td>-73.973053</td>\n",
       "      <td>40.793209</td>\n",
       "      <td>-73.972923</td>\n",
       "      <td>40.782520</td>\n",
       "      <td>435</td>\n",
       "      <td>6</td>\n",
       "      <td>26</td>\n",
       "      <td>3</td>\n",
       "      <td>13</td>\n",
       "      <td>30</td>\n",
       "      <td>13</td>\n",
       "      <td>38</td>\n",
       "      <td>1.187842</td>\n",
       "    </tr>\n",
       "  </tbody>\n",
       "</table>\n",
       "</div>"
      ],
      "text/plain": [
       "   vendor_id  passenger_count  pickup_longitude  pickup_latitude  \\\n",
       "0          2                1        -73.982155        40.767937   \n",
       "1          1                1        -73.980415        40.738564   \n",
       "2          2                1        -73.979027        40.763939   \n",
       "3          2                1        -74.010040        40.719971   \n",
       "4          2                1        -73.973053        40.793209   \n",
       "\n",
       "   dropoff_longitude  dropoff_latitude  trip_duration  pickup_day_of_week  \\\n",
       "0         -73.964630         40.765602            455                   1   \n",
       "1         -73.999481         40.731152            663                   7   \n",
       "2         -74.005333         40.710087           2124                   2   \n",
       "3         -74.012268         40.706718            429                   3   \n",
       "4         -73.972923         40.782520            435                   6   \n",
       "\n",
       "   pickup_day_date  pickup_mth  pickup_time_hour  pickup_time_min  \\\n",
       "0               14           3                17               24   \n",
       "1               12           6                 0               43   \n",
       "2               19           1                11               35   \n",
       "3                6           4                19               32   \n",
       "4               26           3                13               30   \n",
       "\n",
       "   dropoff_time_hour  dropoff_time_min  trip_euc_dist  \n",
       "0                 17                32       1.497580  \n",
       "1                  0                54       1.804374  \n",
       "2                 12                10       6.381090  \n",
       "3                 19                39       1.484566  \n",
       "4                 13                38       1.187842  "
      ]
     },
     "execution_count": 11,
     "metadata": {},
     "output_type": "execute_result"
    }
   ],
   "source": [
    "taxi_df_transformed.head()"
   ]
  },
  {
   "cell_type": "code",
   "execution_count": 12,
   "metadata": {},
   "outputs": [
    {
     "name": "stdout",
     "output_type": "stream",
     "text": [
      "<class 'pandas.core.frame.DataFrame'>\n",
      "RangeIndex: 1458644 entries, 0 to 1458643\n",
      "Data columns (total 15 columns):\n",
      "vendor_id             1458644 non-null int64\n",
      "passenger_count       1458644 non-null int64\n",
      "pickup_longitude      1458644 non-null float64\n",
      "pickup_latitude       1458644 non-null float64\n",
      "dropoff_longitude     1458644 non-null float64\n",
      "dropoff_latitude      1458644 non-null float64\n",
      "trip_duration         1458644 non-null int64\n",
      "pickup_day_of_week    1458644 non-null int64\n",
      "pickup_day_date       1458644 non-null int64\n",
      "pickup_mth            1458644 non-null int64\n",
      "pickup_time_hour      1458644 non-null int64\n",
      "pickup_time_min       1458644 non-null int64\n",
      "dropoff_time_hour     1458644 non-null int64\n",
      "dropoff_time_min      1458644 non-null int64\n",
      "trip_euc_dist         1458644 non-null float64\n",
      "dtypes: float64(5), int64(10)\n",
      "memory usage: 166.9 MB\n"
     ]
    }
   ],
   "source": [
    "taxi_df_transformed.info()"
   ]
  },
  {
   "cell_type": "markdown",
   "metadata": {},
   "source": [
    "# Splitting our data into a train and test set"
   ]
  },
  {
   "cell_type": "markdown",
   "metadata": {},
   "source": [
    "## Importing the library to split our data set"
   ]
  },
  {
   "cell_type": "code",
   "execution_count": 13,
   "metadata": {},
   "outputs": [],
   "source": [
    "from sklearn.model_selection import train_test_split"
   ]
  },
  {
   "cell_type": "markdown",
   "metadata": {},
   "source": [
    "## Split the data into a train and test set"
   ]
  },
  {
   "cell_type": "code",
   "execution_count": 14,
   "metadata": {},
   "outputs": [],
   "source": [
    "X = taxi_df_transformed.drop(columns=['trip_duration'], axis=1)\n",
    "y = taxi_df_transformed['trip_duration']\n",
    "X_train, X_test, y_train, y_test = train_test_split(X, y, test_size=0.2, random_state=111)"
   ]
  },
  {
   "cell_type": "code",
   "execution_count": 15,
   "metadata": {},
   "outputs": [
    {
     "data": {
      "text/html": [
       "<div>\n",
       "<style scoped>\n",
       "    .dataframe tbody tr th:only-of-type {\n",
       "        vertical-align: middle;\n",
       "    }\n",
       "\n",
       "    .dataframe tbody tr th {\n",
       "        vertical-align: top;\n",
       "    }\n",
       "\n",
       "    .dataframe thead th {\n",
       "        text-align: right;\n",
       "    }\n",
       "</style>\n",
       "<table border=\"1\" class=\"dataframe\">\n",
       "  <thead>\n",
       "    <tr style=\"text-align: right;\">\n",
       "      <th></th>\n",
       "      <th>vendor_id</th>\n",
       "      <th>passenger_count</th>\n",
       "      <th>pickup_longitude</th>\n",
       "      <th>pickup_latitude</th>\n",
       "      <th>dropoff_longitude</th>\n",
       "      <th>dropoff_latitude</th>\n",
       "      <th>pickup_day_of_week</th>\n",
       "      <th>pickup_day_date</th>\n",
       "      <th>pickup_mth</th>\n",
       "      <th>pickup_time_hour</th>\n",
       "      <th>pickup_time_min</th>\n",
       "      <th>dropoff_time_hour</th>\n",
       "      <th>dropoff_time_min</th>\n",
       "      <th>trip_euc_dist</th>\n",
       "    </tr>\n",
       "  </thead>\n",
       "  <tbody>\n",
       "    <tr>\n",
       "      <th>1275522</th>\n",
       "      <td>2</td>\n",
       "      <td>1</td>\n",
       "      <td>-73.971985</td>\n",
       "      <td>40.756863</td>\n",
       "      <td>-73.991417</td>\n",
       "      <td>40.749195</td>\n",
       "      <td>7</td>\n",
       "      <td>17</td>\n",
       "      <td>1</td>\n",
       "      <td>11</td>\n",
       "      <td>55</td>\n",
       "      <td>12</td>\n",
       "      <td>8</td>\n",
       "      <td>1.844412</td>\n",
       "    </tr>\n",
       "    <tr>\n",
       "      <th>136887</th>\n",
       "      <td>2</td>\n",
       "      <td>1</td>\n",
       "      <td>-73.870949</td>\n",
       "      <td>40.773731</td>\n",
       "      <td>-73.974922</td>\n",
       "      <td>40.762058</td>\n",
       "      <td>7</td>\n",
       "      <td>12</td>\n",
       "      <td>6</td>\n",
       "      <td>12</td>\n",
       "      <td>0</td>\n",
       "      <td>12</td>\n",
       "      <td>22</td>\n",
       "      <td>8.846212</td>\n",
       "    </tr>\n",
       "    <tr>\n",
       "      <th>127429</th>\n",
       "      <td>2</td>\n",
       "      <td>2</td>\n",
       "      <td>-73.989471</td>\n",
       "      <td>40.739880</td>\n",
       "      <td>-73.991920</td>\n",
       "      <td>40.723801</td>\n",
       "      <td>7</td>\n",
       "      <td>31</td>\n",
       "      <td>1</td>\n",
       "      <td>0</td>\n",
       "      <td>13</td>\n",
       "      <td>0</td>\n",
       "      <td>28</td>\n",
       "      <td>1.798637</td>\n",
       "    </tr>\n",
       "    <tr>\n",
       "      <th>731318</th>\n",
       "      <td>1</td>\n",
       "      <td>1</td>\n",
       "      <td>-73.972160</td>\n",
       "      <td>40.793903</td>\n",
       "      <td>-73.967621</td>\n",
       "      <td>40.802769</td>\n",
       "      <td>3</td>\n",
       "      <td>29</td>\n",
       "      <td>6</td>\n",
       "      <td>19</td>\n",
       "      <td>13</td>\n",
       "      <td>19</td>\n",
       "      <td>16</td>\n",
       "      <td>1.056588</td>\n",
       "    </tr>\n",
       "    <tr>\n",
       "      <th>1252105</th>\n",
       "      <td>1</td>\n",
       "      <td>1</td>\n",
       "      <td>-73.956108</td>\n",
       "      <td>40.819054</td>\n",
       "      <td>-73.945374</td>\n",
       "      <td>40.807621</td>\n",
       "      <td>5</td>\n",
       "      <td>22</td>\n",
       "      <td>1</td>\n",
       "      <td>17</td>\n",
       "      <td>18</td>\n",
       "      <td>17</td>\n",
       "      <td>27</td>\n",
       "      <td>1.558570</td>\n",
       "    </tr>\n",
       "  </tbody>\n",
       "</table>\n",
       "</div>"
      ],
      "text/plain": [
       "         vendor_id  passenger_count  pickup_longitude  pickup_latitude  \\\n",
       "1275522          2                1        -73.971985        40.756863   \n",
       "136887           2                1        -73.870949        40.773731   \n",
       "127429           2                2        -73.989471        40.739880   \n",
       "731318           1                1        -73.972160        40.793903   \n",
       "1252105          1                1        -73.956108        40.819054   \n",
       "\n",
       "         dropoff_longitude  dropoff_latitude  pickup_day_of_week  \\\n",
       "1275522         -73.991417         40.749195                   7   \n",
       "136887          -73.974922         40.762058                   7   \n",
       "127429          -73.991920         40.723801                   7   \n",
       "731318          -73.967621         40.802769                   3   \n",
       "1252105         -73.945374         40.807621                   5   \n",
       "\n",
       "         pickup_day_date  pickup_mth  pickup_time_hour  pickup_time_min  \\\n",
       "1275522               17           1                11               55   \n",
       "136887                12           6                12                0   \n",
       "127429                31           1                 0               13   \n",
       "731318                29           6                19               13   \n",
       "1252105               22           1                17               18   \n",
       "\n",
       "         dropoff_time_hour  dropoff_time_min  trip_euc_dist  \n",
       "1275522                 12                 8       1.844412  \n",
       "136887                  12                22       8.846212  \n",
       "127429                   0                28       1.798637  \n",
       "731318                  19                16       1.056588  \n",
       "1252105                 17                27       1.558570  "
      ]
     },
     "execution_count": 15,
     "metadata": {},
     "output_type": "execute_result"
    }
   ],
   "source": [
    "X_train.head()"
   ]
  },
  {
   "cell_type": "markdown",
   "metadata": {},
   "source": [
    "# Trying out default models"
   ]
  },
  {
   "cell_type": "markdown",
   "metadata": {},
   "source": [
    "## Gradient Boosted Decision Trees"
   ]
  },
  {
   "cell_type": "markdown",
   "metadata": {},
   "source": [
    "## Importing the GBDT module"
   ]
  },
  {
   "cell_type": "code",
   "execution_count": 23,
   "metadata": {},
   "outputs": [],
   "source": [
    "from sklearn.metrics import mean_squared_error\n",
    "from sklearn.ensemble import GradientBoostingRegressor"
   ]
  },
  {
   "cell_type": "markdown",
   "metadata": {},
   "source": [
    "## Setting up the default GBDT Regressor model"
   ]
  },
  {
   "cell_type": "code",
   "execution_count": 24,
   "metadata": {},
   "outputs": [],
   "source": [
    "gbdt_reg = GradientBoostingRegressor()"
   ]
  },
  {
   "cell_type": "markdown",
   "metadata": {},
   "source": [
    "## Training a default GBDT model with the training data we have"
   ]
  },
  {
   "cell_type": "code",
   "execution_count": 25,
   "metadata": {},
   "outputs": [
    {
     "name": "stdout",
     "output_type": "stream",
     "text": [
      "The time taken to train the Gradient Boosting Decision Tree regression model is 265.49 seconds.\n"
     ]
    }
   ],
   "source": [
    "# We'll additionally track the elapsed time taken to train the model\n",
    "start = time.time()\n",
    "\n",
    "gbdt_reg.fit(X_train, y_train)\n",
    "\n",
    "end = time.time()\n",
    "print(\"The time taken to train the Gradient Boosting Decision Tree regression model is \" + \"{:.2f}\".format(end - start) + \" seconds.\")"
   ]
  },
  {
   "cell_type": "markdown",
   "metadata": {},
   "source": [
    "## Predicting the test data set"
   ]
  },
  {
   "cell_type": "code",
   "execution_count": 27,
   "metadata": {},
   "outputs": [],
   "source": [
    "predicted_results = gbdt_reg.predict(X_test)"
   ]
  },
  {
   "cell_type": "markdown",
   "metadata": {},
   "source": [
    "## Comparing the predicted values against the actual"
   ]
  },
  {
   "cell_type": "code",
   "execution_count": 28,
   "metadata": {},
   "outputs": [],
   "source": [
    "compare_df = pd.DataFrame(columns=['actual', 'predicted'])\n",
    "compare_df['actual'] = y_test\n",
    "compare_df['predicted'] = predicted_results"
   ]
  },
  {
   "cell_type": "code",
   "execution_count": 29,
   "metadata": {},
   "outputs": [
    {
     "data": {
      "text/html": [
       "<div>\n",
       "<style scoped>\n",
       "    .dataframe tbody tr th:only-of-type {\n",
       "        vertical-align: middle;\n",
       "    }\n",
       "\n",
       "    .dataframe tbody tr th {\n",
       "        vertical-align: top;\n",
       "    }\n",
       "\n",
       "    .dataframe thead th {\n",
       "        text-align: right;\n",
       "    }\n",
       "</style>\n",
       "<table border=\"1\" class=\"dataframe\">\n",
       "  <thead>\n",
       "    <tr style=\"text-align: right;\">\n",
       "      <th></th>\n",
       "      <th>actual</th>\n",
       "      <th>predicted</th>\n",
       "    </tr>\n",
       "  </thead>\n",
       "  <tbody>\n",
       "    <tr>\n",
       "      <th>714698</th>\n",
       "      <td>281</td>\n",
       "      <td>667.122052</td>\n",
       "    </tr>\n",
       "    <tr>\n",
       "      <th>1369888</th>\n",
       "      <td>590</td>\n",
       "      <td>649.997120</td>\n",
       "    </tr>\n",
       "    <tr>\n",
       "      <th>355495</th>\n",
       "      <td>535</td>\n",
       "      <td>493.186827</td>\n",
       "    </tr>\n",
       "    <tr>\n",
       "      <th>1383718</th>\n",
       "      <td>522</td>\n",
       "      <td>604.879097</td>\n",
       "    </tr>\n",
       "    <tr>\n",
       "      <th>951815</th>\n",
       "      <td>965</td>\n",
       "      <td>1591.902741</td>\n",
       "    </tr>\n",
       "  </tbody>\n",
       "</table>\n",
       "</div>"
      ],
      "text/plain": [
       "         actual    predicted\n",
       "714698      281   667.122052\n",
       "1369888     590   649.997120\n",
       "355495      535   493.186827\n",
       "1383718     522   604.879097\n",
       "951815      965  1591.902741"
      ]
     },
     "execution_count": 29,
     "metadata": {},
     "output_type": "execute_result"
    }
   ],
   "source": [
    "compare_df.head()"
   ]
  },
  {
   "cell_type": "markdown",
   "metadata": {},
   "source": [
    "## Check out the performance of the default GBDT model by predicting the test data set"
   ]
  },
  {
   "cell_type": "code",
   "execution_count": 44,
   "metadata": {},
   "outputs": [
    {
     "data": {
      "text/plain": [
       "45705996.847256996"
      ]
     },
     "execution_count": 44,
     "metadata": {},
     "output_type": "execute_result"
    }
   ],
   "source": [
    "mean_squared_error(y_test, gbdt_reg.predict(X_test))"
   ]
  },
  {
   "cell_type": "markdown",
   "metadata": {},
   "source": [
    "## Looking at the feature importance, based on the default GBDT model"
   ]
  },
  {
   "cell_type": "code",
   "execution_count": 43,
   "metadata": {},
   "outputs": [
    {
     "data": {
      "text/plain": [
       "Text(0, 0.5, 'Features')"
      ]
     },
     "execution_count": 43,
     "metadata": {},
     "output_type": "execute_result"
    },
    {
     "data": {
      "image/png": "[encoded data removed]",
      "text/plain": [
       "<Figure size 1440x720 with 1 Axes>"
      ]
     },
     "metadata": {
      "needs_background": "light"
     },
     "output_type": "display_data"
    }
   ],
   "source": [
    "feat_impt = pd.DataFrame(columns=['feature_name', 'importance'])\n",
    "feat_impt['feature_name'] = list(X.columns)\n",
    "feat_impt['importance'] = gbdt_reg.feature_importances_\n",
    "feat_impt.sort_values(by=['importance'], inplace=True, ascending=False)\n",
    "\n",
    "fig, ax = plt.subplots(figsize=(20,10))\n",
    "\n",
    "ax = sns.barplot(\n",
    "    x='importance',\n",
    "    y='feature_name',\n",
    "    data=feat_impt,\n",
    ")\n",
    "\n",
    "ax.set_xlabel(\"Feature Importance Score\", fontsize=35)\n",
    "ax.set_ylabel(\"Features\", fontsize=35)"
   ]
  },
  {
   "cell_type": "markdown",
   "metadata": {},
   "source": [
    "We can see that out of all the features that we have, the (relatively) most importance feature that we have, was the engineered Euclidean distance that we obtained based on the latitude / longitudes of the original feature set."
   ]
  },
  {
   "cell_type": "markdown",
   "metadata": {},
   "source": [
    "## This time we'll try with just the Euclidean distance, pickup hour, and dropoff hour as features"
   ]
  },
  {
   "cell_type": "code",
   "execution_count": 46,
   "metadata": {},
   "outputs": [],
   "source": [
    "X_two = X.drop(columns=['dropoff_latitude', 'pickup_time_min', 'dropoff_time_min', 'dropoff_longitude', 'vendor_id', 'pickup_longitude', 'pickup_day_of_week', 'passenger_count', 'pickup_mth'], axis=1)"
   ]
  },
  {
   "cell_type": "markdown",
   "metadata": {},
   "source": [
    "## Setting up a new GBDT model"
   ]
  },
  {
   "cell_type": "code",
   "execution_count": 45,
   "metadata": {},
   "outputs": [],
   "source": [
    "gbdt_reg_two = GradientBoostingRegressor()"
   ]
  },
  {
   "cell_type": "markdown",
   "metadata": {},
   "source": [
    "## Split the data into a train and test data set"
   ]
  },
  {
   "cell_type": "code",
   "execution_count": 47,
   "metadata": {},
   "outputs": [],
   "source": [
    "X_train, X_test, y_train, y_test = train_test_split(X_two, y, test_size=0.2, random_state=111)"
   ]
  },
  {
   "cell_type": "markdown",
   "metadata": {},
   "source": [
    "## Train the model with only these selected features"
   ]
  },
  {
   "cell_type": "code",
   "execution_count": 49,
   "metadata": {},
   "outputs": [
    {
     "name": "stdout",
     "output_type": "stream",
     "text": [
      "The time taken to train the Gradient Boosting Decision Tree regression model is 130.38 seconds.\n"
     ]
    }
   ],
   "source": [
    "# We'll additionally track the elapsed time taken to train the model\n",
    "start = time.time()\n",
    "\n",
    "gbdt_reg_two.fit(X_train, y_train)\n",
    "\n",
    "end = time.time()\n",
    "\n",
    "print(\"The time taken to train the Gradient Boosting Decision Tree regression model is \" + \"{:.2f}\".format(end - start) + \" seconds.\")"
   ]
  },
  {
   "cell_type": "markdown",
   "metadata": {},
   "source": [
    "## Predicting the test data set"
   ]
  },
  {
   "cell_type": "code",
   "execution_count": 50,
   "metadata": {},
   "outputs": [],
   "source": [
    "predicted_results = gbdt_reg_two.predict(X_test)"
   ]
  },
  {
   "cell_type": "markdown",
   "metadata": {},
   "source": [
    "## Comparing the predicted values against the actual"
   ]
  },
  {
   "cell_type": "code",
   "execution_count": 51,
   "metadata": {},
   "outputs": [],
   "source": [
    "compare_df = pd.DataFrame(columns=['actual', 'predicted'])\n",
    "compare_df['actual'] = y_test\n",
    "compare_df['predicted'] = predicted_results"
   ]
  },
  {
   "cell_type": "code",
   "execution_count": 52,
   "metadata": {},
   "outputs": [
    {
     "data": {
      "text/html": [
       "<div>\n",
       "<style scoped>\n",
       "    .dataframe tbody tr th:only-of-type {\n",
       "        vertical-align: middle;\n",
       "    }\n",
       "\n",
       "    .dataframe tbody tr th {\n",
       "        vertical-align: top;\n",
       "    }\n",
       "\n",
       "    .dataframe thead th {\n",
       "        text-align: right;\n",
       "    }\n",
       "</style>\n",
       "<table border=\"1\" class=\"dataframe\">\n",
       "  <thead>\n",
       "    <tr style=\"text-align: right;\">\n",
       "      <th></th>\n",
       "      <th>actual</th>\n",
       "      <th>predicted</th>\n",
       "    </tr>\n",
       "  </thead>\n",
       "  <tbody>\n",
       "    <tr>\n",
       "      <th>714698</th>\n",
       "      <td>281</td>\n",
       "      <td>678.256470</td>\n",
       "    </tr>\n",
       "    <tr>\n",
       "      <th>1369888</th>\n",
       "      <td>590</td>\n",
       "      <td>730.298958</td>\n",
       "    </tr>\n",
       "    <tr>\n",
       "      <th>355495</th>\n",
       "      <td>535</td>\n",
       "      <td>561.366207</td>\n",
       "    </tr>\n",
       "    <tr>\n",
       "      <th>1383718</th>\n",
       "      <td>522</td>\n",
       "      <td>648.275750</td>\n",
       "    </tr>\n",
       "    <tr>\n",
       "      <th>951815</th>\n",
       "      <td>965</td>\n",
       "      <td>1690.979456</td>\n",
       "    </tr>\n",
       "  </tbody>\n",
       "</table>\n",
       "</div>"
      ],
      "text/plain": [
       "         actual    predicted\n",
       "714698      281   678.256470\n",
       "1369888     590   730.298958\n",
       "355495      535   561.366207\n",
       "1383718     522   648.275750\n",
       "951815      965  1690.979456"
      ]
     },
     "execution_count": 52,
     "metadata": {},
     "output_type": "execute_result"
    }
   ],
   "source": [
    "compare_df.head()"
   ]
  },
  {
   "cell_type": "markdown",
   "metadata": {},
   "source": [
    "## Check out the performance of the default GBDT model by predicting the test data set"
   ]
  },
  {
   "cell_type": "code",
   "execution_count": 53,
   "metadata": {},
   "outputs": [
    {
     "data": {
      "text/plain": [
       "51302788.239182286"
      ]
     },
     "execution_count": 53,
     "metadata": {},
     "output_type": "execute_result"
    }
   ],
   "source": [
    "mean_squared_error(y_test, gbdt_reg_two.predict(X_test))"
   ]
  },
  {
   "cell_type": "markdown",
   "metadata": {},
   "source": [
    "Up till this point, we have created 2 models, with its main differences being the number of features that we have used to train the 2 models. The first model was a default Gradient Boosted Decision Tree, using all the features that we engineered, and some of the original features that were provided in the data set.\n",
    "\n",
    "In the second model, we again used a default GDBT model, but with a reduced subset of features, based on the impor"
   ]
  }
 ],
 "metadata": {
  "kernelspec": {
   "display_name": "machine-learning-env",
   "language": "python",
   "name": "machine-learning-env"
  },
  "language_info": {
   "codemirror_mode": {
    "name": "ipython",
    "version": 3
   },
   "file_extension": ".py",
   "mimetype": "text/x-python",
   "name": "python",
   "nbconvert_exporter": "python",
   "pygments_lexer": "ipython3",
   "version": "3.7.0"
  }
 },
 "nbformat": 4,
 "nbformat_minor": 2
}
